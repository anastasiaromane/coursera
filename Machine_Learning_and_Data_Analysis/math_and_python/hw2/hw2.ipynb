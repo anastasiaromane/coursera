{
 "cells": [
  {
   "cell_type": "markdown",
   "metadata": {},
   "source": [
    "# Домашнее задание по программированию: Линейная алгебра: сходство текстов и аппроксимация функций"
   ]
  },
  {
   "cell_type": "markdown",
   "metadata": {},
   "source": [
    "### Задание 1. Сравнение предложений"
   ]
  },
  {
   "cell_type": "code",
   "execution_count": 1,
   "metadata": {
    "collapsed": true
   },
   "outputs": [],
   "source": [
    "import pandas as pd\n",
    "import re\n",
    "import scipy.spatial\n",
    "import numpy as np"
   ]
  },
  {
   "cell_type": "code",
   "execution_count": 2,
   "metadata": {
    "collapsed": true
   },
   "outputs": [],
   "source": [
    "def cleanup(file):\n",
    "    sentences = file.readlines()\n",
    "    list_sent = []\n",
    "    for sentence in sentences:\n",
    "        sentence = re.split('[^a-z]', sentence.lower())\n",
    "        sentence = list(filter(None,sentence))\n",
    "        list_sent.append(sentence)\n",
    "    return list_sent"
   ]
  },
  {
   "cell_type": "code",
   "execution_count": 3,
   "metadata": {
    "collapsed": true
   },
   "outputs": [],
   "source": [
    "def count(senten):\n",
    "    word_index = dict()\n",
    "    index = 0\n",
    "    for sentence in list_sent:\n",
    "        #print(sentence)\n",
    "        for word in sentence:\n",
    "            if word not in word_index:\n",
    "                word_index[word] = index\n",
    "                index += 1\n",
    "    return word_index"
   ]
  },
  {
   "cell_type": "code",
   "execution_count": 4,
   "metadata": {
    "collapsed": false
   },
   "outputs": [],
   "source": [
    "def math(list_sent, word_index):\n",
    "    matrix_list = []\n",
    "    for sent_num in range(len(list_sent)):\n",
    "        matrix_list.append([0 for x in word_index])\n",
    "        for word in list_sent[sent_num]:\n",
    "            word_num = word_index[word]\n",
    "            matrix_list[sent_num][word_num] += 1\n",
    "            \n",
    "    matrix = np.array(matrix_list)\n",
    "    distances = list()\n",
    "    for i in range(len(list_sent)):\n",
    "        distance = scipy.spatial.distance.cosine(matrix[0], matrix[i])\n",
    "        distances.append((i, distance))\n",
    "        \n",
    "    sorted_list = sorted(distances, key=lambda x: x[1])\n",
    "    #submission = [sorted_list[1][0], sorted_list[2][0]]\n",
    "    #print(submission)\n",
    "    with open('submission-1.txt', 'w', encoding='utf-8') as f:\n",
    "        f.write('%.f %.f' % (sorted_list[1][0], sorted_list[2][0]))"
   ]
  },
  {
   "cell_type": "code",
   "execution_count": 5,
   "metadata": {
    "collapsed": false
   },
   "outputs": [],
   "source": [
    "with open('sentences.txt', 'r', encoding='utf16') as file:\n",
    "    list_sent = cleanup(file)\n",
    "    word_index = count(list_sent)\n",
    "    math(list_sent, word_index)"
   ]
  },
  {
   "cell_type": "markdown",
   "metadata": {},
   "source": [
    "### Задание 2. Аппроксимация функции"
   ]
  },
  {
   "cell_type": "markdown",
   "metadata": {},
   "source": [
    "f(x) = sin(x / 5) * exp(x / 10) + 5 * exp(-x / 2)"
   ]
  },
  {
   "cell_type": "code",
   "execution_count": 6,
   "metadata": {
    "collapsed": true
   },
   "outputs": [],
   "source": [
    "import scipy.linalg\n",
    "from numpy import sin, exp\n",
    "import numpy as np"
   ]
  },
  {
   "cell_type": "code",
   "execution_count": 7,
   "metadata": {
    "collapsed": true
   },
   "outputs": [],
   "source": [
    "function = lambda x: sin(x / 5.0) * exp(x / 10.0) + 5 * exp(-x / 2.0)"
   ]
  },
  {
   "cell_type": "code",
   "execution_count": 8,
   "metadata": {
    "collapsed": true
   },
   "outputs": [],
   "source": [
    "def experiment1():\n",
    "    rank1 = 1\n",
    "    M1 = [\n",
    "        [1 ** n for n in range(rank1 + 1)],\n",
    "        [15 ** n for n in range(rank1 + 1)]\n",
    "    ]\n",
    "    \n",
    "    V1 =  [function(1), function(15)]\n",
    "    return scipy.linalg.solve(M1, V1)"
   ]
  },
  {
   "cell_type": "code",
   "execution_count": 9,
   "metadata": {
    "collapsed": false
   },
   "outputs": [],
   "source": [
    "def experiment2():\n",
    "    rank2 = 2\n",
    "    M2 = [\n",
    "        [1 ** n for n in range(rank2 + 1)],\n",
    "        [8 ** n for n in range(rank2 +1)],\n",
    "        [15 ** n for n in range(rank2 + 1)]\n",
    "    ]\n",
    "    \n",
    "    V2 =  [function(1), function(8), function(15)]\n",
    "    return scipy.linalg.solve(M2, V2)"
   ]
  },
  {
   "cell_type": "code",
   "execution_count": 10,
   "metadata": {
    "collapsed": false
   },
   "outputs": [],
   "source": [
    "def experiment3():\n",
    "    rank3 = 3\n",
    "    M3 = [\n",
    "        [1 ** n for n in range(rank3 + 1)],\n",
    "        [4 ** n for n in range(rank3 + 1)],\n",
    "        [10 ** n for n in range(rank3 +1)],\n",
    "        [15 ** n for n in range(rank3 + 1)]\n",
    "    ]\n",
    "    \n",
    "    V3 =  [function(1), function(4), function(10), function(15)]\n",
    "    return np.round(scipy.linalg.solve(M3, V3), 2)"
   ]
  },
  {
   "cell_type": "code",
   "execution_count": 11,
   "metadata": {
    "collapsed": false
   },
   "outputs": [
    {
     "data": {
      "text/plain": [
       "array([ 3.43914511, -0.18692825])"
      ]
     },
     "execution_count": 11,
     "metadata": {},
     "output_type": "execute_result"
    }
   ],
   "source": [
    "experiment1()"
   ]
  },
  {
   "cell_type": "code",
   "execution_count": 12,
   "metadata": {
    "collapsed": false
   },
   "outputs": [
    {
     "data": {
      "text/plain": [
       "array([ 3.32512949, -0.06531159, -0.00760104])"
      ]
     },
     "execution_count": 12,
     "metadata": {},
     "output_type": "execute_result"
    }
   ],
   "source": [
    "experiment2()"
   ]
  },
  {
   "cell_type": "code",
   "execution_count": 13,
   "metadata": {
    "collapsed": false
   },
   "outputs": [
    {
     "data": {
      "text/plain": [
       "array([ 4.36, -1.3 ,  0.19, -0.01])"
      ]
     },
     "execution_count": 13,
     "metadata": {},
     "output_type": "execute_result"
    }
   ],
   "source": [
    "experiment3()"
   ]
  },
  {
   "cell_type": "code",
   "execution_count": null,
   "metadata": {
    "collapsed": true
   },
   "outputs": [],
   "source": []
  }
 ],
 "metadata": {
  "kernelspec": {
   "display_name": "Python 3",
   "language": "python",
   "name": "python3"
  },
  "language_info": {
   "codemirror_mode": {
    "name": "ipython",
    "version": 3
   },
   "file_extension": ".py",
   "mimetype": "text/x-python",
   "name": "python",
   "nbconvert_exporter": "python",
   "pygments_lexer": "ipython3",
   "version": "3.5.2"
  }
 },
 "nbformat": 4,
 "nbformat_minor": 0
}
