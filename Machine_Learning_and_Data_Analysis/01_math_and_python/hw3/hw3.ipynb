{
 "cells": [
  {
   "cell_type": "markdown",
   "metadata": {},
   "source": [
    "# Задание по программированию: Оптимизация в Python: глобальная оптимизация и оптимизация негладкой функции"
   ]
  },
  {
   "cell_type": "markdown",
   "metadata": {},
   "source": [
    "### Задание 1. Минимизация гладкой функции"
   ]
  },
  {
   "cell_type": "markdown",
   "metadata": {},
   "source": [
    "f(x) = sin(x / 5) * exp(x / 10) + 5 * exp(-x / 2) на промежутке [1, 30]"
   ]
  },
  {
   "cell_type": "code",
   "execution_count": 69,
   "metadata": {
    "collapsed": true
   },
   "outputs": [],
   "source": [
    "import scipy.optimize\n",
    "from numpy import sin, exp\n",
    "import numpy as np\n",
    "import matplotlib as mpl\n",
    "import matplotlib.pyplot as plt\n",
    "% matplotlib inline"
   ]
  },
  {
   "cell_type": "code",
   "execution_count": 70,
   "metadata": {
    "collapsed": true
   },
   "outputs": [],
   "source": [
    "function = lambda x: sin(x / 5.0) * exp(x / 10.0) + 5 * exp(-x / 2.0)"
   ]
  },
  {
   "cell_type": "code",
   "execution_count": 71,
   "metadata": {
    "collapsed": false
   },
   "outputs": [
    {
     "name": "stdout",
     "output_type": "stream",
     "text": [
      "      fun: 1.7452682903319983\n",
      " hess_inv: array([[ 6.02518615]])\n",
      "      jac: array([ -1.04308128e-07])\n",
      "  message: 'Optimization terminated successfully.'\n",
      "     nfev: 24\n",
      "      nit: 7\n",
      "     njev: 8\n",
      "   status: 0\n",
      "  success: True\n",
      "        x: array([ 4.13628814])\n"
     ]
    }
   ],
   "source": [
    "x0 = [1.0]\n",
    "print(scipy.optimize.minimize(function, x0))"
   ]
  },
  {
   "cell_type": "code",
   "execution_count": 72,
   "metadata": {
    "collapsed": false
   },
   "outputs": [
    {
     "name": "stdout",
     "output_type": "stream",
     "text": [
      "      fun: 1.7452682903319783\n",
      " hess_inv: array([[ 6.02690105]])\n",
      "      jac: array([ -7.45058060e-08])\n",
      "  message: 'Optimization terminated successfully.'\n",
      "     nfev: 24\n",
      "      nit: 7\n",
      "     njev: 8\n",
      "   status: 0\n",
      "  success: True\n",
      "        x: array([ 4.13628844])\n"
     ]
    }
   ],
   "source": [
    "x1 = [1.1]\n",
    "print(scipy.optimize.minimize(function, x1))"
   ]
  },
  {
   "cell_type": "code",
   "execution_count": 73,
   "metadata": {
    "collapsed": false
   },
   "outputs": [
    {
     "name": "stdout",
     "output_type": "stream",
     "text": [
      "      fun: 1.7452682903319805\n",
      " hess_inv: array([[ 6.02803228]])\n",
      "      jac: array([ -5.96046448e-08])\n",
      "  message: 'Optimization terminated successfully.'\n",
      "     nfev: 24\n",
      "      nit: 7\n",
      "     njev: 8\n",
      "   status: 0\n",
      "  success: True\n",
      "        x: array([ 4.13628838])\n"
     ]
    }
   ],
   "source": [
    "x2 = [1.2]\n",
    "print(scipy.optimize.minimize(function, x2))"
   ]
  },
  {
   "cell_type": "code",
   "execution_count": 74,
   "metadata": {
    "collapsed": false
   },
   "outputs": [
    {
     "name": "stdout",
     "output_type": "stream",
     "text": [
      "[ 4.13627619]\n",
      "[ 4.14]\n"
     ]
    }
   ],
   "source": [
    "x3 = 2.0\n",
    "res1 = scipy.optimize.minimize(function, x3, method='BFGS')\n",
    "#print(res1)\n",
    "print(res1.x)\n",
    "print(np.round(res1.x, 2))"
   ]
  },
  {
   "cell_type": "code",
   "execution_count": 75,
   "metadata": {
    "collapsed": false
   },
   "outputs": [
    {
     "name": "stdout",
     "output_type": "stream",
     "text": [
      "[ 25.88019358]\n",
      "[ 25.88]\n"
     ]
    }
   ],
   "source": [
    "x4 = [30.0]\n",
    "res2 = scipy.optimize.minimize(function, x4, method='BFGS')\n",
    "#print(res2)\n",
    "print(res2.x)\n",
    "print(np.round(res2.x, 2))"
   ]
  },
  {
   "cell_type": "code",
   "execution_count": 76,
   "metadata": {
    "collapsed": false
   },
   "outputs": [
    {
     "name": "stdout",
     "output_type": "stream",
     "text": [
      "[ 1.74526829]\n",
      "[-11.89889467]\n"
     ]
    }
   ],
   "source": [
    "print(function(res1.x))\n",
    "print(function(res2.x))"
   ]
  },
  {
   "cell_type": "code",
   "execution_count": 77,
   "metadata": {
    "collapsed": false
   },
   "outputs": [
    {
     "name": "stdout",
     "output_type": "stream",
     "text": [
      "[ 1.75]\n",
      "[-11.9]\n"
     ]
    }
   ],
   "source": [
    "answer1 = np.round(function(res1.x),2)\n",
    "answer2 = np.round(function(res2.x),2)\n",
    "print(np.round(function(res1.x),2))\n",
    "print(np.round(function(res2.x),2))"
   ]
  },
  {
   "cell_type": "code",
   "execution_count": 78,
   "metadata": {
    "collapsed": true
   },
   "outputs": [],
   "source": [
    "with open('submission-1.txt', 'w') as file:\n",
    "    file.write('%.2f %.2f' % (answer1, answer2))"
   ]
  },
  {
   "cell_type": "code",
   "execution_count": 80,
   "metadata": {
    "collapsed": false
   },
   "outputs": [
    {
     "data": {
      "image/png": "[encoded data removed]",
      "text/plain": [
       "<matplotlib.figure.Figure at 0x1125bb710>"
      ]
     },
     "metadata": {},
     "output_type": "display_data"
    }
   ],
   "source": [
    "x = np.arange(1, 30, 0.1)\n",
    "y = function(x)\n",
    "fig, ax = plt.subplots(figsize=(10,5))\n",
    "ax.plot(x, function(x), label = u'Функция')\n",
    "ax.set_xlabel(u'x',{'fontname':'Arial', 'size': 20})\n",
    "\n",
    "plt.plot(x, y)\n",
    "plt.show()"
   ]
  },
  {
   "cell_type": "markdown",
   "metadata": {},
   "source": [
    "### Задание 2. Глобальная оптимизация"
   ]
  },
  {
   "cell_type": "code",
   "execution_count": 81,
   "metadata": {
    "collapsed": false
   },
   "outputs": [],
   "source": [
    "res3 = scipy.optimize.differential_evolution(function, [(1, 30)])"
   ]
  },
  {
   "cell_type": "code",
   "execution_count": 82,
   "metadata": {
    "collapsed": false
   },
   "outputs": [
    {
     "name": "stdout",
     "output_type": "stream",
     "text": [
      "     fun: array([-11.89889467])\n",
      "     jac: array([  5.32907052e-07])\n",
      " message: 'Optimization terminated successfully.'\n",
      "    nfev: 96\n",
      "     nit: 5\n",
      " success: True\n",
      "       x: array([ 25.88019393])\n"
     ]
    }
   ],
   "source": [
    "print(res3)"
   ]
  },
  {
   "cell_type": "code",
   "execution_count": 83,
   "metadata": {
    "collapsed": false
   },
   "outputs": [
    {
     "name": "stdout",
     "output_type": "stream",
     "text": [
      "[-11.89889467]\n"
     ]
    }
   ],
   "source": [
    "answer3 = np.round(function(res3.x)) #округляет до -12. Для загрузки в качестве ответа нужно указывать -11.9\n",
    "print(function(res3.x))"
   ]
  },
  {
   "cell_type": "code",
   "execution_count": 84,
   "metadata": {
    "collapsed": true
   },
   "outputs": [],
   "source": [
    "with open('submission-2.txt', 'w') as file:\n",
    "    file.write('%.2f' % (answer3))"
   ]
  },
  {
   "cell_type": "markdown",
   "metadata": {},
   "source": [
    "### Задача 3. Минимизация негладкой функции"
   ]
  },
  {
   "cell_type": "code",
   "execution_count": 85,
   "metadata": {
    "collapsed": false
   },
   "outputs": [],
   "source": [
    "def fun(x):\n",
    "    return sin(x / 5.0) * exp(x / 10.0) + 5 * exp(-x / 2.0)\n",
    "def funh(x):\n",
    "    return int(fun(x))"
   ]
  },
  {
   "cell_type": "code",
   "execution_count": 86,
   "metadata": {
    "collapsed": false
   },
   "outputs": [
    {
     "name": "stdout",
     "output_type": "stream",
     "text": [
      "[ 30.]\n",
      "[ 30.]\n",
      "-5\n"
     ]
    }
   ],
   "source": [
    "x4 = 30.0\n",
    "res4 = scipy.optimize.minimize(funh, x4, method='BFGS')\n",
    "print(res4.x)\n",
    "print(np.round(res4.x, 2))\n",
    "print(np.round(funh(res4.x),2))\n",
    "min4 = np.round(res4.x, 2)\n",
    "answer4 = np.round(funh(res4.x),2)"
   ]
  },
  {
   "cell_type": "code",
   "execution_count": 87,
   "metadata": {
    "collapsed": false
   },
   "outputs": [
    {
     "name": "stdout",
     "output_type": "stream",
     "text": [
      "     fun: -11.0\n",
      " message: 'Optimization terminated successfully.'\n",
      "    nfev: 77\n",
      "     nit: 4\n",
      " success: True\n",
      "       x: array([ 24.82547692])\n",
      "[ 24.83]\n",
      "-11\n"
     ]
    }
   ],
   "source": [
    "res5 = scipy.optimize.differential_evolution(funh, [(1, 30)])\n",
    "print(res5)\n",
    "print(np.round(res5.x, 2))\n",
    "print(np.round(funh(res5.x),2))\n",
    "min5 = np.round(res5.x, 2)\n",
    "answer5 = np.round(funh(res5.x),2)"
   ]
  },
  {
   "cell_type": "code",
   "execution_count": 88,
   "metadata": {
    "collapsed": false
   },
   "outputs": [],
   "source": [
    "with open('submission-3.txt', 'w') as file:\n",
    "    file.write('%.2f %.2f' % (answer4, answer5))"
   ]
  },
  {
   "cell_type": "code",
   "execution_count": null,
   "metadata": {
    "collapsed": true
   },
   "outputs": [],
   "source": []
  }
 ],
 "metadata": {
  "kernelspec": {
   "display_name": "Python 3",
   "language": "python",
   "name": "python3"
  },
  "language_info": {
   "codemirror_mode": {
    "name": "ipython",
    "version": 3
   },
   "file_extension": ".py",
   "mimetype": "text/x-python",
   "name": "python",
   "nbconvert_exporter": "python",
   "pygments_lexer": "ipython3",
   "version": "3.5.2"
  }
 },
 "nbformat": 4,
 "nbformat_minor": 0
}
